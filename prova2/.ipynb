{
 "cells": [
  {
   "cell_type": "code",
   "execution_count": 58,
   "metadata": {},
   "outputs": [
    {
     "data": {
      "text/html": [
       "<div>\n",
       "<style scoped>\n",
       "    .dataframe tbody tr th:only-of-type {\n",
       "        vertical-align: middle;\n",
       "    }\n",
       "\n",
       "    .dataframe tbody tr th {\n",
       "        vertical-align: top;\n",
       "    }\n",
       "\n",
       "    .dataframe thead th {\n",
       "        text-align: right;\n",
       "    }\n",
       "</style>\n",
       "<table border=\"1\" class=\"dataframe\">\n",
       "  <thead>\n",
       "    <tr style=\"text-align: right;\">\n",
       "      <th></th>\n",
       "      <th>idade_esposa</th>\n",
       "      <th>educacao_esposa</th>\n",
       "      <th>educacao_marido</th>\n",
       "      <th>quantidade_filhos</th>\n",
       "      <th>religiao_esposa</th>\n",
       "      <th>eposa_trabalha</th>\n",
       "      <th>marido_ocupacao</th>\n",
       "      <th>standard_of_living</th>\n",
       "      <th>exposicao_midia</th>\n",
       "      <th>metodo_contraceptivo</th>\n",
       "    </tr>\n",
       "  </thead>\n",
       "  <tbody>\n",
       "    <tr>\n",
       "      <th>0</th>\n",
       "      <td>24</td>\n",
       "      <td>regular</td>\n",
       "      <td>good</td>\n",
       "      <td>3</td>\n",
       "      <td>1</td>\n",
       "      <td>1</td>\n",
       "      <td>regular</td>\n",
       "      <td>good</td>\n",
       "      <td>0</td>\n",
       "      <td>1</td>\n",
       "    </tr>\n",
       "    <tr>\n",
       "      <th>1</th>\n",
       "      <td>45</td>\n",
       "      <td>low</td>\n",
       "      <td>good</td>\n",
       "      <td>10</td>\n",
       "      <td>1</td>\n",
       "      <td>1</td>\n",
       "      <td>good</td>\n",
       "      <td>high</td>\n",
       "      <td>0</td>\n",
       "      <td>1</td>\n",
       "    </tr>\n",
       "    <tr>\n",
       "      <th>2</th>\n",
       "      <td>43</td>\n",
       "      <td>regular</td>\n",
       "      <td>good</td>\n",
       "      <td>7</td>\n",
       "      <td>1</td>\n",
       "      <td>1</td>\n",
       "      <td>good</td>\n",
       "      <td>high</td>\n",
       "      <td>0</td>\n",
       "      <td>1</td>\n",
       "    </tr>\n",
       "    <tr>\n",
       "      <th>3</th>\n",
       "      <td>42</td>\n",
       "      <td>good</td>\n",
       "      <td>regular</td>\n",
       "      <td>9</td>\n",
       "      <td>1</td>\n",
       "      <td>1</td>\n",
       "      <td>good</td>\n",
       "      <td>good</td>\n",
       "      <td>0</td>\n",
       "      <td>1</td>\n",
       "    </tr>\n",
       "    <tr>\n",
       "      <th>4</th>\n",
       "      <td>36</td>\n",
       "      <td>good</td>\n",
       "      <td>good</td>\n",
       "      <td>8</td>\n",
       "      <td>1</td>\n",
       "      <td>1</td>\n",
       "      <td>good</td>\n",
       "      <td>regular</td>\n",
       "      <td>0</td>\n",
       "      <td>1</td>\n",
       "    </tr>\n",
       "    <tr>\n",
       "      <th>5</th>\n",
       "      <td>19</td>\n",
       "      <td>high</td>\n",
       "      <td>high</td>\n",
       "      <td>0</td>\n",
       "      <td>1</td>\n",
       "      <td>1</td>\n",
       "      <td>good</td>\n",
       "      <td>good</td>\n",
       "      <td>0</td>\n",
       "      <td>1</td>\n",
       "    </tr>\n",
       "    <tr>\n",
       "      <th>6</th>\n",
       "      <td>38</td>\n",
       "      <td>regular</td>\n",
       "      <td>good</td>\n",
       "      <td>6</td>\n",
       "      <td>1</td>\n",
       "      <td>1</td>\n",
       "      <td>good</td>\n",
       "      <td>regular</td>\n",
       "      <td>0</td>\n",
       "      <td>1</td>\n",
       "    </tr>\n",
       "    <tr>\n",
       "      <th>7</th>\n",
       "      <td>21</td>\n",
       "      <td>good</td>\n",
       "      <td>good</td>\n",
       "      <td>1</td>\n",
       "      <td>1</td>\n",
       "      <td>0</td>\n",
       "      <td>good</td>\n",
       "      <td>regular</td>\n",
       "      <td>0</td>\n",
       "      <td>1</td>\n",
       "    </tr>\n",
       "    <tr>\n",
       "      <th>8</th>\n",
       "      <td>27</td>\n",
       "      <td>regular</td>\n",
       "      <td>good</td>\n",
       "      <td>3</td>\n",
       "      <td>1</td>\n",
       "      <td>1</td>\n",
       "      <td>good</td>\n",
       "      <td>high</td>\n",
       "      <td>0</td>\n",
       "      <td>1</td>\n",
       "    </tr>\n",
       "    <tr>\n",
       "      <th>9</th>\n",
       "      <td>45</td>\n",
       "      <td>low</td>\n",
       "      <td>low</td>\n",
       "      <td>8</td>\n",
       "      <td>1</td>\n",
       "      <td>1</td>\n",
       "      <td>regular</td>\n",
       "      <td>regular</td>\n",
       "      <td>1</td>\n",
       "      <td>1</td>\n",
       "    </tr>\n",
       "  </tbody>\n",
       "</table>\n",
       "</div>"
      ],
      "text/plain": [
       "   idade_esposa educacao_esposa educacao_marido  quantidade_filhos  \\\n",
       "0            24         regular            good                  3   \n",
       "1            45             low            good                 10   \n",
       "2            43         regular            good                  7   \n",
       "3            42            good         regular                  9   \n",
       "4            36            good            good                  8   \n",
       "5            19            high            high                  0   \n",
       "6            38         regular            good                  6   \n",
       "7            21            good            good                  1   \n",
       "8            27         regular            good                  3   \n",
       "9            45             low             low                  8   \n",
       "\n",
       "   religiao_esposa  eposa_trabalha marido_ocupacao standard_of_living  \\\n",
       "0                1               1         regular               good   \n",
       "1                1               1            good               high   \n",
       "2                1               1            good               high   \n",
       "3                1               1            good               good   \n",
       "4                1               1            good            regular   \n",
       "5                1               1            good               good   \n",
       "6                1               1            good            regular   \n",
       "7                1               0            good            regular   \n",
       "8                1               1            good               high   \n",
       "9                1               1         regular            regular   \n",
       "\n",
       "   exposicao_midia  metodo_contraceptivo  \n",
       "0                0                     1  \n",
       "1                0                     1  \n",
       "2                0                     1  \n",
       "3                0                     1  \n",
       "4                0                     1  \n",
       "5                0                     1  \n",
       "6                0                     1  \n",
       "7                0                     1  \n",
       "8                0                     1  \n",
       "9                1                     1  "
      ]
     },
     "execution_count": 58,
     "metadata": {},
     "output_type": "execute_result"
    }
   ],
   "source": [
    "import pandas as pd\n",
    "from sklearn.naive_bayes import GaussianNB, BernoulliNB, MultinomialNB\n",
    "from sklearn.model_selection import train_test_split\n",
    "df = pd.read_csv('dataset.csv')\n",
    "\n",
    "for column in df[['educacao_esposa', 'educacao_marido', 'marido_ocupacao', 'standard_of_living']]:\n",
    "    low = df[column] == 1\n",
    "    regular = df[column] == 2\n",
    "    good = df[column] == 3\n",
    "    high = df[column] == 4\n",
    "    df.loc[low, column] = 'low'\n",
    "    df.loc[regular, column] = 'regular'\n",
    "    df.loc[good, column] = 'good'\n",
    "    df.loc[high, column] = 'high'\n",
    "    \n",
    "df.head(10)\n"
   ]
  },
  {
   "cell_type": "code",
   "execution_count": 83,
   "metadata": {},
   "outputs": [
    {
     "name": "stdout",
     "output_type": "stream",
     "text": [
      "152 4.421052631578948\n",
      "334 3.5089820359281436\n",
      "577 2.831889081455806\n",
      "High five! You successfully sent some data to your account on plotly. View your plot in your browser at https://plot.ly/~fabiomsrs/0 or inside your plot.ly account where it is named 'basic-bar'\n"
     ]
    },
    {
     "data": {
      "text/html": [
       "<iframe id=\"igraph\" scrolling=\"no\" style=\"border:none;\" seamless=\"seamless\" src=\"https://plot.ly/~fabiomsrs/0.embed\" height=\"525px\" width=\"100%\"></iframe>"
      ],
      "text/plain": [
       "<plotly.tools.PlotlyDisplay object>"
      ]
     },
     "execution_count": 83,
     "metadata": {},
     "output_type": "execute_result"
    }
   ],
   "source": [
    "low = df[df['educacao_esposa'] == 'low']\n",
    "quantidade_low = low['educacao_esposa'].count()\n",
    "media_low = low['quantidade_filhos'].sum() / quantidade\n",
    "\n",
    "regular = df[df['educacao_esposa'] == 'regular']\n",
    "quantidade_regular = regular['educacao_esposa'].count()\n",
    "media_regular = regular['quantidade_filhos'].sum() / quantidade_regular\n",
    "\n",
    "high = df[df['educacao_esposa'] == 'high']\n",
    "quantidade_high = high['educacao_esposa'].count()\n",
    "media_high = high['quantidade_filhos'].sum() / quantidade_high\n",
    "\n",
    "\n",
    "print(quantidade_low, media_low)\n",
    "print(quantidade_regular, media_regular)\n",
    "print(quantidade_high, media_high)\n",
    "\n",
    "\n",
    "import plotly.plotly as py\n",
    "import plotly.graph_objs as go\n",
    "import plotly\n",
    "\n",
    "trace1 = go.Bar(\n",
    "            x=['baixo nivel educacao', 'medio nivel educacao', 'alto nivel educacao'],\n",
    "            y=[quantidade_low/10, quantidade_regular/10, quantidade_high/10]\n",
    "    )\n",
    "\n",
    "trace2 = go.Bar(\n",
    "            x=['baixo nivel educacao', 'medio nivel educacao', 'alto nivel educacao'],\n",
    "            y=[media_low, media_regular, media_high]\n",
    "    )\n",
    "data = [trace1, trace2]\n",
    "\n",
    "plotly.tools.set_credentials_file(username='fabiomsrs', api_key='kaim3eXD0bQjCmwB3v5A')\n",
    "py.iplot(data, filename='basic-bar')"
   ]
  },
  {
   "cell_type": "code",
   "execution_count": 54,
   "metadata": {},
   "outputs": [
    {
     "data": {
      "text/plain": [
       "0    1\n",
       "1    1\n",
       "2    1\n",
       "3    1\n",
       "4    1\n",
       "5    1\n",
       "6    1\n",
       "7    1\n",
       "8    1\n",
       "9    1\n",
       "Name: metodo_contraceptivo, dtype: int64"
      ]
     },
     "execution_count": 54,
     "metadata": {},
     "output_type": "execute_result"
    }
   ],
   "source": [
    "x = df.drop(['metodo_contraceptivo'], axis=1)\n",
    "y = df['metodo_contraceptivo']\n",
    "\n",
    "x = pd.get_dummies(x)\n",
    "y.head(10)"
   ]
  },
  {
   "cell_type": "code",
   "execution_count": 55,
   "metadata": {},
   "outputs": [
    {
     "data": {
      "text/plain": [
       "0.5013550135501355"
      ]
     },
     "execution_count": 55,
     "metadata": {},
     "output_type": "execute_result"
    }
   ],
   "source": [
    "from sklearn.model_selection import train_test_split\n",
    "\n",
    "# g = GaussianNB()\n",
    "# b = BernoulliNB()\n",
    "m = MultinomialNB()\n",
    "\n",
    "x_treino, x_teste, y_treino, y_teste = train_test_split(x, y, test_size=0.25, random_state=0)\n",
    "\n",
    "# g.fit(x_treino, y_treino)\n",
    "# b.fit(x_treino, y_treino)\n",
    "# b.score(x_teste, y_treino)\n",
    "m.fit(x_treino, y_treino)\n",
    "m.score(x_teste, y_teste)"
   ]
  },
  {
   "cell_type": "code",
   "execution_count": 56,
   "metadata": {},
   "outputs": [
    {
     "data": {
      "text/plain": [
       "array([0.45748988, 0.4796748 , 0.50406504, 0.51428571, 0.48163265,\n",
       "       0.44672131])"
      ]
     },
     "execution_count": 56,
     "metadata": {},
     "output_type": "execute_result"
    }
   ],
   "source": [
    "from scipy.stats import bayes_mvs\n",
    "from sklearn.model_selection import cross_val_score\n",
    "k = 6\n",
    "scores = cross_val_score(m, x, y, cv = k)\n",
    "scores"
   ]
  },
  {
   "cell_type": "code",
   "execution_count": 57,
   "metadata": {},
   "outputs": [
    {
     "data": {
      "text/plain": [
       "(Mean(statistic=0.4806448991272054, minmax=(0.45340364801878064, 0.5078861502356302)),\n",
       " Variance(statistic=0.0011230296691342725, minmax=(0.000262543423641796, 0.004053226582422955)),\n",
       " Std_dev(statistic=0.030874863396756935, minmax=(0.016203191773283315, 0.06366495568539222)))"
      ]
     },
     "execution_count": 57,
     "metadata": {},
     "output_type": "execute_result"
    }
   ],
   "source": [
    "from scipy.stats import bayes_mvs\n",
    "\n",
    "bayes_mvs(scores,0.95)"
   ]
  },
  {
   "cell_type": "code",
   "execution_count": null,
   "metadata": {},
   "outputs": [],
   "source": []
  }
 ],
 "metadata": {
  "kernelspec": {
   "display_name": "Python 3",
   "language": "python",
   "name": "python3"
  },
  "language_info": {
   "codemirror_mode": {
    "name": "ipython",
    "version": 3
   },
   "file_extension": ".py",
   "mimetype": "text/x-python",
   "name": "python",
   "nbconvert_exporter": "python",
   "pygments_lexer": "ipython3",
   "version": "3.6.5"
  }
 },
 "nbformat": 4,
 "nbformat_minor": 2
}
