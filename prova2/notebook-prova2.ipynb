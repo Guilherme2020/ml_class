{
 "cells": [
  {
   "cell_type": "code",
   "execution_count": 11,
   "metadata": {},
   "outputs": [
    {
     "data": {
      "text/html": [
       "<div>\n",
       "<style scoped>\n",
       "    .dataframe tbody tr th:only-of-type {\n",
       "        vertical-align: middle;\n",
       "    }\n",
       "\n",
       "    .dataframe tbody tr th {\n",
       "        vertical-align: top;\n",
       "    }\n",
       "\n",
       "    .dataframe thead th {\n",
       "        text-align: right;\n",
       "    }\n",
       "</style>\n",
       "<table border=\"1\" class=\"dataframe\">\n",
       "  <thead>\n",
       "    <tr style=\"text-align: right;\">\n",
       "      <th></th>\n",
       "      <th>idade_esposa</th>\n",
       "      <th>educacao_esposa</th>\n",
       "      <th>educacao_marido</th>\n",
       "      <th>quantidade_filhos</th>\n",
       "      <th>religiao_esposa</th>\n",
       "      <th>eposa_trabalha</th>\n",
       "      <th>marido_ocupacao</th>\n",
       "      <th>padrao_de_vida</th>\n",
       "      <th>exposicao_midia</th>\n",
       "      <th>metodo_contraceptivo</th>\n",
       "    </tr>\n",
       "  </thead>\n",
       "  <tbody>\n",
       "    <tr>\n",
       "      <th>0</th>\n",
       "      <td>24</td>\n",
       "      <td>regular</td>\n",
       "      <td>good</td>\n",
       "      <td>3</td>\n",
       "      <td>1</td>\n",
       "      <td>1</td>\n",
       "      <td>regular</td>\n",
       "      <td>good</td>\n",
       "      <td>0</td>\n",
       "      <td>1</td>\n",
       "    </tr>\n",
       "    <tr>\n",
       "      <th>1</th>\n",
       "      <td>45</td>\n",
       "      <td>low</td>\n",
       "      <td>good</td>\n",
       "      <td>10</td>\n",
       "      <td>1</td>\n",
       "      <td>1</td>\n",
       "      <td>good</td>\n",
       "      <td>high</td>\n",
       "      <td>0</td>\n",
       "      <td>1</td>\n",
       "    </tr>\n",
       "    <tr>\n",
       "      <th>2</th>\n",
       "      <td>43</td>\n",
       "      <td>regular</td>\n",
       "      <td>good</td>\n",
       "      <td>7</td>\n",
       "      <td>1</td>\n",
       "      <td>1</td>\n",
       "      <td>good</td>\n",
       "      <td>high</td>\n",
       "      <td>0</td>\n",
       "      <td>1</td>\n",
       "    </tr>\n",
       "    <tr>\n",
       "      <th>3</th>\n",
       "      <td>42</td>\n",
       "      <td>good</td>\n",
       "      <td>regular</td>\n",
       "      <td>9</td>\n",
       "      <td>1</td>\n",
       "      <td>1</td>\n",
       "      <td>good</td>\n",
       "      <td>good</td>\n",
       "      <td>0</td>\n",
       "      <td>1</td>\n",
       "    </tr>\n",
       "    <tr>\n",
       "      <th>4</th>\n",
       "      <td>36</td>\n",
       "      <td>good</td>\n",
       "      <td>good</td>\n",
       "      <td>8</td>\n",
       "      <td>1</td>\n",
       "      <td>1</td>\n",
       "      <td>good</td>\n",
       "      <td>regular</td>\n",
       "      <td>0</td>\n",
       "      <td>1</td>\n",
       "    </tr>\n",
       "  </tbody>\n",
       "</table>\n",
       "</div>"
      ],
      "text/plain": [
       "   idade_esposa educacao_esposa educacao_marido  quantidade_filhos  \\\n",
       "0            24         regular            good                  3   \n",
       "1            45             low            good                 10   \n",
       "2            43         regular            good                  7   \n",
       "3            42            good         regular                  9   \n",
       "4            36            good            good                  8   \n",
       "\n",
       "   religiao_esposa  eposa_trabalha marido_ocupacao padrao_de_vida  \\\n",
       "0                1               1         regular           good   \n",
       "1                1               1            good           high   \n",
       "2                1               1            good           high   \n",
       "3                1               1            good           good   \n",
       "4                1               1            good        regular   \n",
       "\n",
       "   exposicao_midia  metodo_contraceptivo  \n",
       "0                0                     1  \n",
       "1                0                     1  \n",
       "2                0                     1  \n",
       "3                0                     1  \n",
       "4                0                     1  "
      ]
     },
     "execution_count": 11,
     "metadata": {},
     "output_type": "execute_result"
    }
   ],
   "source": [
    "import pandas as pd\n",
    "from sklearn.naive_bayes import GaussianNB, BernoulliNB, MultinomialNB\n",
    "from sklearn.model_selection import train_test_split\n",
    "df = pd.read_csv('dataset.csv')\n",
    "\n",
    "for column in df[['educacao_esposa', 'educacao_marido', 'marido_ocupacao', 'padrao_de_vida']]:\n",
    "    low = df[column] == 1\n",
    "    regular = df[column] == 2\n",
    "    good = df[column] == 3\n",
    "    high = df[column] == 4\n",
    "    df.loc[low, column] = 'low'\n",
    "    df.loc[regular, column] = 'regular'\n",
    "    df.loc[good, column] = 'good'\n",
    "    df.loc[high, column] = 'high'\n",
    "    \n",
    "df.head()\n"
   ]
  },
  {
   "cell_type": "code",
   "execution_count": 27,
   "metadata": {},
   "outputs": [
    {
     "data": {
      "text/html": [
       "<iframe id=\"igraph\" scrolling=\"no\" style=\"border:none;\" seamless=\"seamless\" src=\"https://plot.ly/~fabiomsrs/2.embed\" height=\"525px\" width=\"100%\"></iframe>"
      ],
      "text/plain": [
       "<plotly.tools.PlotlyDisplay object>"
      ]
     },
     "execution_count": 27,
     "metadata": {},
     "output_type": "execute_result"
    }
   ],
   "source": [
    "low = df[df['educacao_esposa'] == 'low']\n",
    "quantidade_low = low['educacao_esposa'].count()\n",
    "media_low = low['quantidade_filhos'].sum() / quantidade_low\n",
    "\n",
    "regular = df[df['educacao_esposa'] == 'regular']\n",
    "quantidade_regular = regular['educacao_esposa'].count()\n",
    "media_regular = regular['quantidade_filhos'].sum() / quantidade_regular\n",
    "\n",
    "high = df[df['educacao_esposa'] == 'high']\n",
    "quantidade_high = high['educacao_esposa'].count()\n",
    "media_high = high['quantidade_filhos'].sum() / quantidade_high\n",
    "\n",
    "\n",
    "import plotly.plotly as py\n",
    "import plotly.graph_objs as go\n",
    "import plotly\n",
    "\n",
    "\n",
    "\n",
    "trace = go.Bar(\n",
    "            name = \"Quantidade de Filhos\",\n",
    "            x=['baixo nivel educacao', 'medio nivel educacao', 'alto nivel educacao'],\n",
    "            y=[media_low, media_regular, media_high]\n",
    "    )\n",
    "\n",
    "data = [trace]\n",
    "\n",
    "layout = go.Layout(\n",
    "    title=\"Quantidade de Filhos por nivel de educacao\",\n",
    ")\n",
    "\n",
    "plotly.tools.set_credentials_file(username='fabiomsrs', api_key='kaim3eXD0bQjCmwB3v5A')\n",
    "fig = go.Figure(data=data, layout=layout)\n",
    "py.iplot(fig, filename='text-hover-bar')"
   ]
  },
  {
   "cell_type": "code",
   "execution_count": 28,
   "metadata": {},
   "outputs": [
    {
     "name": "stdout",
     "output_type": "stream",
     "text": [
      "2.86449864498645 3.3940217391304346\n"
     ]
    },
    {
     "data": {
      "text/html": [
       "<iframe id=\"igraph\" scrolling=\"no\" style=\"border:none;\" seamless=\"seamless\" src=\"https://plot.ly/~fabiomsrs/2.embed\" height=\"525px\" width=\"100%\"></iframe>"
      ],
      "text/plain": [
       "<plotly.tools.PlotlyDisplay object>"
      ]
     },
     "execution_count": 28,
     "metadata": {},
     "output_type": "execute_result"
    }
   ],
   "source": [
    "eposa_trabalha = df[df['eposa_trabalha'] == 0]\n",
    "quantidade_eposa_trabalha = eposa_trabalha['eposa_trabalha'].count()\n",
    "eposa_nao_trabalha = df[df['eposa_trabalha'] == 1]\n",
    "quantidade_eposa_nao_trabalha = eposa_nao_trabalha['eposa_trabalha'].count()\n",
    "\n",
    "media_filhos_esposa_trabalha = eposa_trabalha['quantidade_filhos'].sum() / quantidade_eposa_trabalha \n",
    "media_filhos_esposa_nao_trabalha = eposa_nao_trabalha['quantidade_filhos'].sum() / quantidade_eposa_nao_trabalha \n",
    "\n",
    "\n",
    "import plotly.plotly as py\n",
    "import plotly.graph_objs as go\n",
    "import plotly\n",
    "\n",
    "trace = go.Bar(\n",
    "            x=['Mulher Trabalha', 'Mulher Nao Trabalha'],\n",
    "            y=[media_filhos_esposa_trabalha, media_filhos_esposa_nao_trabalha]\n",
    "    )\n",
    "data = [trace]\n",
    "\n",
    "layout = go.Layout(\n",
    "    title=\"Quantidade de Filhos entre mulheres que trabalham ou nao\",\n",
    ")\n",
    "\n",
    "plotly.tools.set_credentials_file(username='fabiomsrs', api_key='kaim3eXD0bQjCmwB3v5A')\n",
    "fig = go.Figure(data=data, layout=layout)\n",
    "py.iplot(fig, filename='text-hover-bar')"
   ]
  },
  {
   "cell_type": "code",
   "execution_count": 19,
   "metadata": {},
   "outputs": [
    {
     "name": "stdout",
     "output_type": "stream",
     "text": [
      "Islam\n"
     ]
    },
    {
     "data": {
      "image/png": "[encoded data removed]",
      "text/plain": [
       "<Figure size 432x288 with 1 Axes>"
      ]
     },
     "metadata": {},
     "output_type": "display_data"
    },
    {
     "name": "stdout",
     "output_type": "stream",
     "text": [
      "No Islam\n"
     ]
    },
    {
     "data": {
      "image/png": "[encoded data removed]",
      "text/plain": [
       "<Figure size 432x288 with 1 Axes>"
      ]
     },
     "metadata": {},
     "output_type": "display_data"
    },
    {
     "name": "stdout",
     "output_type": "stream",
     "text": [
      "General\n"
     ]
    },
    {
     "data": {
      "image/png": "[encoded data removed]",
      "text/plain": [
       "<Figure size 432x288 with 1 Axes>"
      ]
     },
     "metadata": {},
     "output_type": "display_data"
    }
   ],
   "source": [
    "import matplotlib.pyplot as plt\n",
    "\n",
    "religiao = df[df['religiao_esposa'] == 1]\n",
    "quantidade_metodo = religiao[religiao['metodo_contraceptivo'] != 1]['metodo_contraceptivo'].count()\n",
    "quantidade_nao_metodo = religiao[religiao['metodo_contraceptivo'] == 1]['metodo_contraceptivo'].count()\n",
    "\n",
    "# Data to plot\n",
    "labels = 'Utiliza metodo', 'Nao utiliza metodo'\n",
    "sizes = [quantidade_metodo, quantidade_nao_metodo]\n",
    "colors = ['gold', 'yellowgreen']\n",
    "# explode = (0.1, 0, 0, 0)  # explode 1st slice\n",
    "\n",
    "# Plot\n",
    "plt.pie(sizes, labels=labels, colors=colors,\n",
    "autopct='%1.1f%%', shadow=True, startangle=140)\n",
    "print(\"Islam:\")\n",
    "plt.axis('equal')\n",
    "plt.show()\n",
    "\n",
    "religiao = df[df['religiao_esposa'] == 0]\n",
    "quantidade_metodo = religiao[religiao['metodo_contraceptivo'] != 1]['metodo_contraceptivo'].count()\n",
    "quantidade_nao_metodo = religiao[religiao['metodo_contraceptivo'] == 1]['metodo_contraceptivo'].count()\n",
    "\n",
    "# Data to plot\n",
    "labels = 'Utiliza metodo', 'Nao utiliza metodo'\n",
    "sizes = [quantidade_metodo, quantidade_nao_metodo]\n",
    "colors = ['gold', 'yellowgreen']\n",
    "# explode = (0.1, 0, 0, 0)  # explode 1st slice\n",
    "\n",
    "# Plot\n",
    "plt.pie(sizes, labels=labels, colors=colors,\n",
    "autopct='%1.1f%%', shadow=True, startangle=140)\n",
    "print(\"No Islam:\")\n",
    "plt.axis('equal')\n",
    "plt.show()\n",
    "\n",
    "quantidade_metodo = df[df['metodo_contraceptivo'] != 1]['metodo_contraceptivo'].count()\n",
    "quantidade_nao_metodo = df[df['metodo_contraceptivo'] == 1]['metodo_contraceptivo'].count()\n",
    "\n",
    "labels = 'Utiliza metodo', 'Nao utiliza metodo'\n",
    "sizes = [quantidade_metodo, quantidade_nao_metodo]\n",
    "colors = ['gold', 'yellowgreen']\n",
    "# explode = (0.1, 0, 0, 0)  # explode 1st slice\n",
    "\n",
    "# Plot\n",
    "plt.pie(sizes, labels=labels, colors=colors,\n",
    "autopct='%1.1f%%', shadow=True, startangle=140)\n",
    "print(\"General:\")\n",
    "plt.axis('equal')\n",
    "plt.show()"
   ]
  },
  {
   "cell_type": "code",
   "execution_count": 32,
   "metadata": {},
   "outputs": [
    {
     "data": {
      "text/plain": [
       "0    1\n",
       "1    1\n",
       "2    1\n",
       "3    1\n",
       "4    1\n",
       "5    1\n",
       "6    1\n",
       "7    1\n",
       "8    1\n",
       "9    1\n",
       "Name: metodo_contraceptivo, dtype: int64"
      ]
     },
     "execution_count": 32,
     "metadata": {},
     "output_type": "execute_result"
    }
   ],
   "source": [
    "x = df.drop(['metodo_contraceptivo'], axis=1)\n",
    "y = df['metodo_contraceptivo']\n",
    "\n",
    "x = pd.get_dummies(x)\n",
    "y.head(10)"
   ]
  },
  {
   "cell_type": "code",
   "execution_count": 81,
   "metadata": {},
   "outputs": [
    {
     "data": {
      "text/plain": [
       "0.5013550135501355"
      ]
     },
     "execution_count": 81,
     "metadata": {},
     "output_type": "execute_result"
    }
   ],
   "source": [
    "from sklearn.model_selection import train_test_split\n",
    "\n",
    "# g = GaussianNB()\n",
    "# b = BernoulliNB()\n",
    "m = MultinomialNB()\n",
    "\n",
    "x_treino, x_teste, y_treino, y_teste = train_test_split(x, y, test_size=0.25, random_state=0)\n",
    "# g.fit(x_treino, y_treino)\n",
    "# b.fit(x_treino, y_treino)\n",
    "# b.score(x_teste, y_treino)\n",
    "m.fit(x_treino, y_treino)\n",
    "m.score(x_teste, y_teste)"
   ]
  },
  {
   "cell_type": "code",
   "execution_count": 89,
   "metadata": {},
   "outputs": [
    {
     "data": {
      "text/plain": [
       "array([0.50135501, 0.49184783, 0.46195652, 0.45652174])"
      ]
     },
     "execution_count": 89,
     "metadata": {},
     "output_type": "execute_result"
    }
   ],
   "source": [
    "from scipy.stats import bayes_mvs\n",
    "from sklearn.model_selection import cross_val_score\n",
    "from sklearn.model_selection import KFold\n",
    "\n",
    "k = 4\n",
    "scores = cross_val_score(m, x, y, cv = KFold(k, shuffle=True, random_state=0))\n",
    "scores"
   ]
  },
  {
   "cell_type": "code",
   "execution_count": 83,
   "metadata": {},
   "outputs": [
    {
     "data": {
      "text/plain": [
       "(Mean(statistic=0.4779202751266643, minmax=(0.4428663549223082, 0.5129741953310204)),\n",
       " Variance(statistic=0.0014559024057279831, minmax=(0.00015573807757163604, 0.006746683189851857)),\n",
       " Std_dev(statistic=0.030444314052446027, minmax=(0.012479506303201103, 0.08213819568174029)))"
      ]
     },
     "execution_count": 83,
     "metadata": {},
     "output_type": "execute_result"
    }
   ],
   "source": [
    "from scipy.stats import bayes_mvs\n",
    "\n",
    "bayes_mvs(scores,0.95)"
   ]
  },
  {
   "cell_type": "code",
   "execution_count": 93,
   "metadata": {},
   "outputs": [
    {
     "name": "stderr",
     "output_type": "stream",
     "text": [
      "c:\\users\\fabiano.sobrinho\\appdata\\local\\programs\\python\\python36\\lib\\site-packages\\sklearn\\svm\\base.py:922: ConvergenceWarning:\n",
      "\n",
      "Liblinear failed to converge, increase the number of iterations.\n",
      "\n",
      "c:\\users\\fabiano.sobrinho\\appdata\\local\\programs\\python\\python36\\lib\\site-packages\\sklearn\\svm\\base.py:922: ConvergenceWarning:\n",
      "\n",
      "Liblinear failed to converge, increase the number of iterations.\n",
      "\n",
      "c:\\users\\fabiano.sobrinho\\appdata\\local\\programs\\python\\python36\\lib\\site-packages\\sklearn\\svm\\base.py:922: ConvergenceWarning:\n",
      "\n",
      "Liblinear failed to converge, increase the number of iterations.\n",
      "\n",
      "c:\\users\\fabiano.sobrinho\\appdata\\local\\programs\\python\\python36\\lib\\site-packages\\sklearn\\svm\\base.py:922: ConvergenceWarning:\n",
      "\n",
      "Liblinear failed to converge, increase the number of iterations.\n",
      "\n"
     ]
    },
    {
     "name": "stdout",
     "output_type": "stream",
     "text": [
      "Mean(statistic=0.3666146171317326, minmax=(0.07016570917291681, 0.6630635250905483))\n"
     ]
    },
    {
     "name": "stderr",
     "output_type": "stream",
     "text": [
      "c:\\users\\fabiano.sobrinho\\appdata\\local\\programs\\python\\python36\\lib\\site-packages\\sklearn\\svm\\base.py:922: ConvergenceWarning:\n",
      "\n",
      "Liblinear failed to converge, increase the number of iterations.\n",
      "\n",
      "c:\\users\\fabiano.sobrinho\\appdata\\local\\programs\\python\\python36\\lib\\site-packages\\sklearn\\svm\\base.py:922: ConvergenceWarning:\n",
      "\n",
      "Liblinear failed to converge, increase the number of iterations.\n",
      "\n"
     ]
    }
   ],
   "source": [
    "from sklearn.multiclass import OneVsOneClassifier\n",
    "from sklearn.multiclass import OneVsRestClassifier\n",
    "from sklearn.svm import LinearSVC\n",
    "\n",
    "modeloOneVsOne = OneVsOneClassifier(LinearSVC(random_state = 0))\n",
    "modeloOneVsRest = OneVsRestClassifier(LinearSVC(random_state = 0))\n",
    "\n",
    "scores = cross_val_score(modeloOneVsRest,x,y,cv = 4)\n",
    "media, variancia, desvio = bayes_mvs(scores,0.95)\n",
    "print(media)"
   ]
  },
  {
   "cell_type": "code",
   "execution_count": 94,
   "metadata": {},
   "outputs": [
    {
     "name": "stderr",
     "output_type": "stream",
     "text": [
      "c:\\users\\fabiano.sobrinho\\appdata\\local\\programs\\python\\python36\\lib\\site-packages\\sklearn\\svm\\base.py:922: ConvergenceWarning:\n",
      "\n",
      "Liblinear failed to converge, increase the number of iterations.\n",
      "\n",
      "c:\\users\\fabiano.sobrinho\\appdata\\local\\programs\\python\\python36\\lib\\site-packages\\sklearn\\svm\\base.py:922: ConvergenceWarning:\n",
      "\n",
      "Liblinear failed to converge, increase the number of iterations.\n",
      "\n",
      "c:\\users\\fabiano.sobrinho\\appdata\\local\\programs\\python\\python36\\lib\\site-packages\\sklearn\\svm\\base.py:922: ConvergenceWarning:\n",
      "\n",
      "Liblinear failed to converge, increase the number of iterations.\n",
      "\n",
      "c:\\users\\fabiano.sobrinho\\appdata\\local\\programs\\python\\python36\\lib\\site-packages\\sklearn\\svm\\base.py:922: ConvergenceWarning:\n",
      "\n",
      "Liblinear failed to converge, increase the number of iterations.\n",
      "\n",
      "c:\\users\\fabiano.sobrinho\\appdata\\local\\programs\\python\\python36\\lib\\site-packages\\sklearn\\svm\\base.py:922: ConvergenceWarning:\n",
      "\n",
      "Liblinear failed to converge, increase the number of iterations.\n",
      "\n",
      "c:\\users\\fabiano.sobrinho\\appdata\\local\\programs\\python\\python36\\lib\\site-packages\\sklearn\\svm\\base.py:922: ConvergenceWarning:\n",
      "\n",
      "Liblinear failed to converge, increase the number of iterations.\n",
      "\n",
      "c:\\users\\fabiano.sobrinho\\appdata\\local\\programs\\python\\python36\\lib\\site-packages\\sklearn\\svm\\base.py:922: ConvergenceWarning:\n",
      "\n",
      "Liblinear failed to converge, increase the number of iterations.\n",
      "\n",
      "c:\\users\\fabiano.sobrinho\\appdata\\local\\programs\\python\\python36\\lib\\site-packages\\sklearn\\svm\\base.py:922: ConvergenceWarning:\n",
      "\n",
      "Liblinear failed to converge, increase the number of iterations.\n",
      "\n",
      "c:\\users\\fabiano.sobrinho\\appdata\\local\\programs\\python\\python36\\lib\\site-packages\\sklearn\\svm\\base.py:922: ConvergenceWarning:\n",
      "\n",
      "Liblinear failed to converge, increase the number of iterations.\n",
      "\n",
      "c:\\users\\fabiano.sobrinho\\appdata\\local\\programs\\python\\python36\\lib\\site-packages\\sklearn\\svm\\base.py:922: ConvergenceWarning:\n",
      "\n",
      "Liblinear failed to converge, increase the number of iterations.\n",
      "\n",
      "c:\\users\\fabiano.sobrinho\\appdata\\local\\programs\\python\\python36\\lib\\site-packages\\sklearn\\svm\\base.py:922: ConvergenceWarning:\n",
      "\n",
      "Liblinear failed to converge, increase the number of iterations.\n",
      "\n",
      "c:\\users\\fabiano.sobrinho\\appdata\\local\\programs\\python\\python36\\lib\\site-packages\\sklearn\\svm\\base.py:922: ConvergenceWarning:\n",
      "\n",
      "Liblinear failed to converge, increase the number of iterations.\n",
      "\n"
     ]
    },
    {
     "name": "stdout",
     "output_type": "stream",
     "text": [
      "0.4636536355689892\n"
     ]
    }
   ],
   "source": [
    "scores = cross_val_score(modeloOneVsRest,x,y,cv = 4)\n",
    "media, variancia, desvio = bayes_mvs(scores,0.95)\n",
    "print(media[0])"
   ]
  },
  {
   "cell_type": "code",
   "execution_count": null,
   "metadata": {},
   "outputs": [],
   "source": []
  }
 ],
 "metadata": {
  "kernelspec": {
   "display_name": "Python 3",
   "language": "python",
   "name": "python3"
  },
  "language_info": {
   "codemirror_mode": {
    "name": "ipython",
    "version": 3
   },
   "file_extension": ".py",
   "mimetype": "text/x-python",
   "name": "python",
   "nbconvert_exporter": "python",
   "pygments_lexer": "ipython3",
   "version": "3.6.5"
  }
 },
 "nbformat": 4,
 "nbformat_minor": 2
}
